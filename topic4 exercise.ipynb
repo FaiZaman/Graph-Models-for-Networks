{
 "cells": [
  {
   "cell_type": "markdown",
   "metadata": {},
   "source": [
    "# Networks and their Structure Assignment\n",
    "\n",
    "## Network Science Topic 4\n",
    "\n",
    "[5 marks] We consider a simple model of contagion where within a fixed population each individual has the same number of contacts and when infected transmits the disease to each with probability $p$.  Suppose that there is an outbreak of a contagious disease within this fixed population. You have been tasked with attempting to control the epidemic and have found two methods, but each has a cost. In the following all monetary units are in billions of pounds.\n",
    "\n",
    "- The first method attempts to restrict contact between individuals: if you spend $x$, then each individual will come into contact with $40−x/2$ others.\n",
    "- The second method attempts to reduce the probability of transmission: if you spend $y$, then the probability of transmission upon contact is $0.04 − y/1000$.\n",
    "\n",
    "You have a total of 20 billion pounds to spend and can implement both methods at once (that is, $x + y = 20$).  If your aim is to minimize the spread of the disease, what values should you choose for $x$ and $y$?  Explain your answer.\n",
    "\n",
    "For this question you can either submit a pdf or write your answer in this notebook and submit that."
   ]
  },
  {
   "cell_type": "markdown",
   "metadata": {},
   "source": [
    "**The R number is the expected number of new cases of a disease caused by an individual. It is equal to the probability of transmission *p* multiplied by the number of people *k* an individual meets while contagious.**"
   ]
  },
  {
   "cell_type": "code",
   "execution_count": 1,
   "metadata": {},
   "outputs": [],
   "source": [
    "import matplotlib.mlab as mlab\n",
    "import matplotlib.pyplot as plt"
   ]
  },
  {
   "cell_type": "code",
   "execution_count": 2,
   "metadata": {},
   "outputs": [],
   "source": [
    "def get_R_number(x, y):\n",
    "    \n",
    "    k = 40 - (x / 2)\n",
    "    p = 0.04 - (y / 1000)\n",
    "    \n",
    "    R = p * k\n",
    "    return R"
   ]
  },
  {
   "cell_type": "code",
   "execution_count": 3,
   "metadata": {},
   "outputs": [
    {
     "name": "stdout",
     "output_type": "stream",
     "text": [
      "If no money is spent, the R number is 1.6\n"
     ]
    }
   ],
   "source": [
    "print(\"If no money is spent, the R number is \" + str(get_R_number(x=0, y=0)))"
   ]
  },
  {
   "cell_type": "markdown",
   "metadata": {},
   "source": [
    "**In order to minimise the spread of the disease, the R number should be as low as possible. Below, different values of x and y are experimented with and the resulting R number is recorded.**"
   ]
  },
  {
   "cell_type": "code",
   "execution_count": 8,
   "metadata": {},
   "outputs": [
    {
     "name": "stdout",
     "output_type": "stream",
     "text": [
      "x = 20, y = 0, R = 1.2\n",
      "x = 19, y = 1, R = 1.1895\n",
      "x = 18, y = 2, R = 1.178\n",
      "x = 17, y = 3, R = 1.1655\n",
      "x = 16, y = 4, R = 1.152\n",
      "x = 15, y = 5, R = 1.1375\n",
      "x = 14, y = 6, R = 1.122\n",
      "x = 13, y = 7, R = 1.1055\n",
      "x = 12, y = 8, R = 1.088\n",
      "x = 11, y = 9, R = 1.0695\n",
      "x = 10, y = 10, R = 1.05\n",
      "x = 9, y = 11, R = 1.0295\n",
      "x = 8, y = 12, R = 1.008\n",
      "x = 7, y = 13, R = 0.9855\n",
      "x = 6, y = 14, R = 0.962\n",
      "x = 5, y = 15, R = 0.9375\n",
      "x = 4, y = 16, R = 0.912\n",
      "x = 3, y = 17, R = 0.8855\n",
      "x = 2, y = 18, R = 0.858\n",
      "x = 1, y = 19, R = 0.8295\n",
      "x = 0, y = 20, R = 0.8\n"
     ]
    }
   ],
   "source": [
    "x_vals = []\n",
    "y_vals = []\n",
    "R_vals = []\n",
    "\n",
    "for y in range(0, 21):\n",
    "    \n",
    "    x = 20 - y\n",
    "    R = round(get_R_number(x, y), 4)\n",
    "    \n",
    "    x_vals.append(x)\n",
    "    y_vals.append(y)\n",
    "    R_vals.append(R)\n",
    "    print(\"x = \" + str(x) + \", \" + \"y = \" + str(y) + \", \" + \"R = \" + str(R))"
   ]
  },
  {
   "cell_type": "code",
   "execution_count": 25,
   "metadata": {},
   "outputs": [
    {
     "data": {
      "image/png": "[encoded data removed]",
      "text/plain": [
       "<Figure size 720x360 with 2 Axes>"
      ]
     },
     "metadata": {
      "needs_background": "light"
     },
     "output_type": "display_data"
    }
   ],
   "source": [
    "plt.subplot(1, 2, 1)\n",
    "plt.plot(x_vals, R_vals)\n",
    "plt.title('Pounds into x against R number, \\n where 20 - x is placed into y')\n",
    "plt.xlabel('Pounds into x (billions)')\n",
    "plt.ylabel('R number')\n",
    "\n",
    "plt.subplot(1, 2, 2)\n",
    "plt.plot(y_vals, R_vals)\n",
    "plt.title('Pounds in y against R number, \\n where 20 - y is placed into x')\n",
    "plt.xlabel('Pounds into y (billions)')\n",
    "plt.ylabel('R number')\n",
    "\n",
    "plt.rcParams[\"figure.figsize\"] = (10, 5)"
   ]
  },
  {
   "cell_type": "markdown",
   "metadata": {},
   "source": [
    "**It is clear from the results above that the more money is spent on reducing the probability of transmission *p*, the lower the R number becomes. The smallest R value possible with a budget of 20 billion pounds is 0.8, which is yielded by spending all 20 billion pounds on minimising *p* and none on minimising *k*. Therefore, the optimal values of x is 0 and the optimal value of y is 20.**"
   ]
  }
 ],
 "metadata": {
  "kernelspec": {
   "display_name": "Python 3",
   "language": "python",
   "name": "python3"
  },
  "language_info": {
   "codemirror_mode": {
    "name": "ipython",
    "version": 3
   },
   "file_extension": ".py",
   "mimetype": "text/x-python",
   "name": "python",
   "nbconvert_exporter": "python",
   "pygments_lexer": "ipython3",
   "version": "3.7.6"
  }
 },
 "nbformat": 4,
 "nbformat_minor": 2
}
