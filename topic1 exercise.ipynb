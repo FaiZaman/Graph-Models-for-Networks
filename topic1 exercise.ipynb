{
 "cells": [
  {
   "cell_type": "markdown",
   "metadata": {},
   "source": [
    "# Networks and their Structure Assignment\n",
    "\n",
    "## Network Science Topic 1\n",
    "\n",
    "Note that the networks in this exercise are all directed."
   ]
  },
  {
   "cell_type": "markdown",
   "metadata": {},
   "source": [
    "1. Obtain the code and dataset and load ``citation_graph`` from ``topic1b.ipynb`` and, from ``topic1e.ipynb``, the PA graph ``EX_GRAPH_PA1`` used to model it.  Using the function ``local_clustering_coefficient`` in ``NatSfunctions.ipynb``, create two plots showing the normalized distribution of the local clustering coefficients for these two graphs.  To achieve this, round each value to two decimal places.\n"
   ]
  },
  {
   "cell_type": "code",
   "execution_count": null,
   "metadata": {},
   "outputs": [],
   "source": []
  },
  {
   "cell_type": "markdown",
   "metadata": {},
   "source": [
    "2. A PA graph is constructed one node at a time and the degree of each node will change as further nodes are added.  For PA graphs on 10,000 nodes with $m=m_0=20$, for nodes 0, 30, 60 and 90, plot, on the same axes, their in-degree against the number of nodes added to the graph.  (That is, how do their in-degrees increase over time?).  Comment on what you find with reference to a real network that is believed to have the preferential attachment property."
   ]
  },
  {
   "cell_type": "code",
   "execution_count": null,
   "metadata": {},
   "outputs": [],
   "source": []
  },
  {
   "cell_type": "markdown",
   "metadata": {},
   "source": [
    "3. Consider the following network model that constructs a *C graph* with parameters $n$, $m$ and $p$ as follows:\n",
    "    - Construct a complete graph on $m$ nodes\n",
    "    - Add $n-m$ further nodes and to each node $v$ add $m$ outgoing edges using the following process for each one:\n",
    "        * Pick a random node $w$ from the network constructed so far.\n",
    "        * Either, with probability $p$ add an edge from $v$ to $w$, or\n",
    "        *  with probability $1-p$ add an edge from $v$ to a neighbour of $w$ chosen at random\n",
    "\n",
    "Investigate C graphs by generating instances and looking at their properties.  You can choose $n=2000$, $m=20$ and vary $p$.  Comment on your findings.  Do C graphs provide an intuitive model for any real networks?"
   ]
  },
  {
   "cell_type": "code",
   "execution_count": null,
   "metadata": {},
   "outputs": [],
   "source": []
  },
  {
   "cell_type": "markdown",
   "metadata": {},
   "source": [
    "You will need to submit all code, plots and written answers for this question.  You can do this most simply by extending this notebook, but you can also, for example, submit py, pdf and image files.  You will be given detailed instructions on the submission for this module before the deadline next term."
   ]
  },
  {
   "cell_type": "code",
   "execution_count": null,
   "metadata": {},
   "outputs": [],
   "source": []
  }
 ],
 "metadata": {
  "kernelspec": {
   "display_name": "Python 3",
   "language": "python",
   "name": "python3"
  },
  "language_info": {
   "codemirror_mode": {
    "name": "ipython",
    "version": 3
   },
   "file_extension": ".py",
   "mimetype": "text/x-python",
   "name": "python",
   "nbconvert_exporter": "python",
   "pygments_lexer": "ipython3",
   "version": "3.7.4"
  }
 },
 "nbformat": 4,
 "nbformat_minor": 2
}
