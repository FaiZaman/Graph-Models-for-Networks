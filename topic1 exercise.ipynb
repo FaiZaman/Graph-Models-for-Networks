{
 "cells": [
  {
   "cell_type": "markdown",
   "metadata": {},
   "source": [
    "# Networks and their Structure Assignment\n",
    "\n",
    "## Network Science Topic 1\n",
    "\n",
    "Note that the networks in this exercise are all directed."
   ]
  },
  {
   "cell_type": "markdown",
   "metadata": {},
   "source": [
    "1. Obtain the code and dataset and load ``citation_graph`` from ``topic1b.ipynb`` and, from ``topic1e.ipynb``, the PA graph ``EX_GRAPH_PA1`` used to model it.  Using the function ``local_clustering_coefficient`` in ``NatSfunctions.ipynb``, create two plots showing the normalized distribution of the local clustering coefficients for these two graphs.  To achieve this, round each value to two decimal places.\n"
   ]
  },
  {
   "cell_type": "code",
   "execution_count": 6,
   "metadata": {},
   "outputs": [],
   "source": [
    "import numpy as np\n",
    "import matplotlib.mlab as mlab\n",
    "import matplotlib.pyplot as plt\n",
    "%run NatSfunctions.ipynb"
   ]
  },
  {
   "cell_type": "code",
   "execution_count": 7,
   "metadata": {},
   "outputs": [
    {
     "name": "stdout",
     "output_type": "stream",
     "text": [
      "Loaded graph with 27770 nodes\n"
     ]
    }
   ],
   "source": [
    "citation_graph = load_graph(\"alg_phys-cite.txt\")\n",
    "EX_GRAPH_PA1 = make_PA_Graph(27770, 13)"
   ]
  },
  {
   "cell_type": "code",
   "execution_count": 8,
   "metadata": {},
   "outputs": [],
   "source": [
    "def clustering_coefficient_distribution(graph):\n",
    "    \"\"\"\n",
    "    Takes a graph and computes the unnormalised distribution of the local clustering coefficients of the graph.\n",
    "    Returns a dictionary whose keys correspond to local clustering coefficents of nodes and values are the number of nodes\n",
    "    with that clustering coefficient. The keys are rounded to 2 DPs.\n",
    "    \"\"\"\n",
    "    \n",
    "    # initialise dictionary for coefficient distribution\n",
    "    coefficient_distribution = {}\n",
    "    \n",
    "    # consider each vertex\n",
    "    for vertex in graph:\n",
    "        \n",
    "        # calculate the local clustering coefficient of this vertex and round to 2 DP\n",
    "        coefficient = local_clustering_coefficient(graph, vertex)\n",
    "        rounded_coefficient = round(coefficient, 2)\n",
    "        \n",
    "        # update coefficient distribution\n",
    "        if rounded_coefficient not in coefficient_distribution:\n",
    "            coefficient_distribution[rounded_coefficient] = 1\n",
    "        else:\n",
    "            coefficient_distribution[rounded_coefficient] += 1\n",
    "    \n",
    "    return coefficient_distribution"
   ]
  },
  {
   "cell_type": "code",
   "execution_count": 45,
   "metadata": {},
   "outputs": [],
   "source": [
    "# normalise the distribution\n",
    "def normalise_coefficient_distribution(graph):\n",
    "\n",
    "    coefficient_distribution = clustering_coefficient_distribution(graph)\n",
    "    normalised_coefficient_distribution = {}\n",
    "\n",
    "    for coefficient in coefficient_distribution:\n",
    "        normalised_coefficient_distribution[coefficient] = coefficient_distribution[coefficient] / 27770.0\n",
    "    \n",
    "    return normalised_coefficient_distribution"
   ]
  },
  {
   "cell_type": "code",
   "execution_count": 50,
   "metadata": {},
   "outputs": [],
   "source": [
    "def plot_distributions(normalised_coefficient_distribution1, normalised_coefficient_distribution2):\n",
    "\n",
    "    xdata1 = []\n",
    "    xdata2 = []\n",
    "    \n",
    "    ydata1 = []\n",
    "    ydata2 = []\n",
    "    \n",
    "    for coefficient in normalised_coefficient_distribution1:\n",
    "        xdata1 += [coefficient]\n",
    "        ydata1 += [normalised_coefficient_distribution1[coefficient]]\n",
    "    \n",
    "    for coefficient in normalised_coefficient_distribution2:\n",
    "        xdata2 += [coefficient]\n",
    "        ydata2 += [normalised_coefficient_distribution2[coefficient]]\n",
    "\n",
    "    # plot the distribution\n",
    "    plt.subplot(1, 2, 1)\n",
    "    plt.loglog(xdata1, ydata1, marker='.', linestyle='None', color='b')\n",
    "    plt.title('Local Clustering Coefficient Distribution of Citation Graph')\n",
    "    plt.xlabel('Local Clustering Coefficient')\n",
    "    plt.ylabel('Normalised Rate')\n",
    "\n",
    "    plt.subplot(1, 2, 2)\n",
    "    plt.loglog(xdata2, ydata2, marker='.', linestyle='None', color='b')\n",
    "    plt.title('Local Clustering Coefficient Distribution of PA Graph')\n",
    "    plt.xlabel('Local Clustering Coefficient')\n",
    "    plt.ylabel('Normalised Rate')\n",
    "    \n",
    "    plt.rcParams[\"figure.figsize\"] = (20, 5)"
   ]
  },
  {
   "cell_type": "code",
   "execution_count": 52,
   "metadata": {},
   "outputs": [
    {
     "data": {
      "image/png": "[encoded data removed]",
      "text/plain": [
       "<Figure size 1440x360 with 2 Axes>"
      ]
     },
     "metadata": {
      "needs_background": "light"
     },
     "output_type": "display_data"
    }
   ],
   "source": [
    "# call functions and plot distributions\n",
    "citation_coefficient_distribution = normalise_coefficient_distribution(citation_graph)\n",
    "pa_coefficient_distribution = normalise_coefficient_distribution(EX_GRAPH_PA1)\n",
    "\n",
    "plot_distributions(citation_coefficient_distribution, pa_coefficient_distribution)"
   ]
  },
  {
   "cell_type": "markdown",
   "metadata": {},
   "source": [
    "2. A PA graph is constructed one node at a time and the degree of each node will change as further nodes are added.  For PA graphs on 10,000 nodes with $m=m_0=20$, for nodes 0, 30, 60 and 90, plot, on the same axes, their in-degree against the number of nodes added to the graph.  (That is, how do their in-degrees increase over time?).  Comment on what you find with reference to a real network that is believed to have the preferential attachment property."
   ]
  },
  {
   "cell_type": "markdown",
   "metadata": {},
   "source": [
    "3. Consider the following network model that constructs a *C graph* with parameters $n$, $m$ and $p$ as follows:\n",
    "    - Construct a complete graph on $m$ nodes\n",
    "    - Add $n-m$ further nodes and to each node $v$ add $m$ outgoing edges using the following process for each one:\n",
    "        * Pick a random node $w$ from the network constructed so far.\n",
    "        * Either, with probability $p$ add an edge from $v$ to $w$, or\n",
    "        *  with probability $1-p$ add an edge from $v$ to a neighbour of $w$ chosen at random\n",
    "\n",
    "Investigate C graphs by generating instances and looking at their properties.  You can choose $n=2000$, $m=20$ and vary $p$.  Comment on your findings.  Do C graphs provide an intuitive model for any real networks?"
   ]
  },
  {
   "cell_type": "code",
   "execution_count": null,
   "metadata": {},
   "outputs": [],
   "source": []
  },
  {
   "cell_type": "markdown",
   "metadata": {},
   "source": [
    "You will need to submit all code, plots and written answers for this question.  You can do this most simply by extending this notebook, but you can also, for example, submit py, pdf and image files.  You will be given detailed instructions on the submission for this module before the deadline next term."
   ]
  },
  {
   "cell_type": "code",
   "execution_count": null,
   "metadata": {},
   "outputs": [],
   "source": []
  }
 ],
 "metadata": {
  "kernelspec": {
   "display_name": "Python 3",
   "language": "python",
   "name": "python3"
  },
  "language_info": {
   "codemirror_mode": {
    "name": "ipython",
    "version": 3
   },
   "file_extension": ".py",
   "mimetype": "text/x-python",
   "name": "python",
   "nbconvert_exporter": "python",
   "pygments_lexer": "ipython3",
   "version": "3.7.6"
  }
 },
 "nbformat": 4,
 "nbformat_minor": 2
}
