{
 "cells": [
  {
   "cell_type": "markdown",
   "metadata": {},
   "source": [
    "# Networks and their Structure Assignment\n",
    "\n",
    "## Network Science Topic 2\n",
    "\n",
    "Note that the networks in this exercise are undirected.\n",
    "\n",
    "This exercise concerns the **Kleinberg model** which we claimed was an example of a *searchable* network.\n",
    "\n",
    "A **Kleinberg graph** is defined by four parameters $n$, $m$, $p$ and $\\alpha$.  It is constructed as follows:\n",
    "* The graph has $n$ nodes. We think of these as being arranged on a circle.\n",
    "* Each node is joined to the nearest $m$ nodes on either side (so it has $2m$ neighbours in total).\n",
    "* Then each node $v$ is considered, and each of the original edges going to a clockwise neighbour is considered in turn. With rewiring probability $p$ the edge is deleted and replaced with an edge from $v$ to a vertex $w$ chosen at random: but vertices are not equally likely to be chosen as $w$. The vertex $w$ is chosen with probability proportional to $d_w^{-\\alpha}$ where $d_w$ is the shorter distance around the circle from v to w. (Note that if the edge from $v$ to $w$ already exists then the original edge is not deleted and no action is taken).\n",
    "\n",
    "Write code to construct an instance of the Kleinberg model.  Here is how you might find the probability distribution needed to choose the random vertex $w$ in the third step above.\n",
    "* Once you have decided to rewire an edge from $v$, for every other vertex $w$, find $d_w^{-\\alpha}$. Put these values in a list.\n",
    "* Find the sum $S$ of the values in the list. So the probability of rewiring from $v$ to $w$ is $d_w^{-\\alpha}/S$.\n",
    "* Find a random real number $R$ between 0 and $S$, and initiate a variable *total* with value 0.\n",
    "* Go through the list, add each number to *total*. Stop when *total* is more than $R$. The vertex that corresponds to the point reached in the list is $w$."
   ]
  },
  {
   "cell_type": "code",
   "execution_count": 29,
   "metadata": {},
   "outputs": [],
   "source": [
    "import random\n",
    "import numpy as np\n",
    "import matplotlib.mlab as mlab\n",
    "import matplotlib.pyplot as plt\n",
    "%run NatSfunctions.ipynb"
   ]
  },
  {
   "cell_type": "code",
   "execution_count": 32,
   "metadata": {},
   "outputs": [],
   "source": [
    "def rewire(neighbour, graph):\n",
    "    \n",
    "    return graph"
   ]
  },
  {
   "cell_type": "code",
   "execution_count": 33,
   "metadata": {},
   "outputs": [],
   "source": [
    "def create_Kleinberg_graph(n, m, p, a):\n",
    "\n",
    "    graph = {}\n",
    "\n",
    "    # connect initial vertices to m nearest neighbours on either side\n",
    "    for vertex in range(0, n):\n",
    "\n",
    "        # get the neighbours ahead and behind current vertex\n",
    "        clockwise_neighbours = [neighbour % n for neighbour in range(vertex + 1, vertex + m + 1)]\n",
    "        anticlockwise_neighbours = [neighbour % n for neighbour in range(vertex - 1, vertex - m - 1, -1)]\n",
    "\n",
    "        # combine and assign to vertex\n",
    "        neighbours = clockwise_neighbours + anticlockwise_neighbours\n",
    "        graph[vertex] = neighbours\n",
    "\n",
    "\n",
    "    # consider each node\n",
    "    for vertex in graph:\n",
    "        \n",
    "        # consider each edge going to a clockwise neighbour\n",
    "        clockwise_neighbours = graph[vertex][:m]\n",
    "        \n",
    "        for neighbour in clockwise_neighbours:\n",
    "            \n",
    "            # rewire with rewiring probability p\n",
    "            random_number = random.random()\n",
    "            if random_number < p:\n",
    "                rewired_graph = rewire(graph, neighbour)\n",
    "    \n",
    "    return graph"
   ]
  },
  {
   "cell_type": "code",
   "execution_count": 34,
   "metadata": {},
   "outputs": [],
   "source": [
    "n = 100\n",
    "m = 8\n",
    "p = 0.05\n",
    "a = 2\n",
    "graph = create_Kleinberg_graph(n, m, p, a)"
   ]
  },
  {
   "cell_type": "markdown",
   "metadata": {},
   "source": [
    "Write a function to find the *search time* of a graph. This is the number of steps needed to get from a vertex $v$ to a vertex $w$ when, at each step, you traverse the edge that will bring you to the position on the circle closest to $w$. In fact, the search time is the average over all pairs of vertices, but if this is too slow to compute it should be possible to approximate by look at a random sample of pairs.\n",
    "\n",
    "1. [15 marks] Plot search time versus $\\alpha$ for Kleinberg graphs with $m=8$, $p=0.05$ for the following values of $n$: 1000, 2000, 3000, 4000.\n",
    "\n",
    "\n",
    "2. [5 marks] Plot the relationship between the number of nodes and search time (for fixed $m$, $p$ and $\\alpha$).\n",
    "\n",
    "\n",
    "You will need to submit all code and plots for this question.  You can do this most simply by extending this notebook, but you can also, for example, submit py and image files.  You will be given detailed instructions on the submission for this module before the deadline next term."
   ]
  },
  {
   "cell_type": "code",
   "execution_count": null,
   "metadata": {},
   "outputs": [],
   "source": []
  }
 ],
 "metadata": {
  "kernelspec": {
   "display_name": "Python 3",
   "language": "python",
   "name": "python3"
  },
  "language_info": {
   "codemirror_mode": {
    "name": "ipython",
    "version": 3
   },
   "file_extension": ".py",
   "mimetype": "text/x-python",
   "name": "python",
   "nbconvert_exporter": "python",
   "pygments_lexer": "ipython3",
   "version": "3.7.6"
  }
 },
 "nbformat": 4,
 "nbformat_minor": 2
}
